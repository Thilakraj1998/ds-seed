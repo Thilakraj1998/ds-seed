{
 "cells": [
  {
   "cell_type": "markdown",
   "source": [
    "# DecisionTreeRegressor with Scale\r\n"
   ],
   "metadata": {}
  },
  {
   "cell_type": "markdown",
   "source": [
    "This Code template is for regression analysis using simple DecisionTreeRegressor based on the Classification and Regression Trees algorithm along with Scale Feature Scaling technique."
   ],
   "metadata": {}
  },
  {
   "cell_type": "markdown",
   "source": [
    "### Coming Soon"
   ],
   "metadata": {}
  }
 ],
 "metadata": {
  "orig_nbformat": 4,
  "language_info": {
   "name": "python"
  }
 },
 "nbformat": 4,
 "nbformat_minor": 2
}