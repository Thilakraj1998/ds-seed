{
 "cells": [
  {
   "cell_type": "markdown",
   "source": [
    "# DecisionTreeRegressor with RobustScaler\r\n"
   ],
   "metadata": {}
  },
  {
   "cell_type": "markdown",
   "source": [
    "This Code template is for regression analysis using simple DecisionTreeRegressor based on the Classification and Regression Trees algorithm along with RobustScaler Feature Scaling technique."
   ],
   "metadata": {}
  },
  {
   "cell_type": "markdown",
   "source": [
    "### Coming Soon"
   ],
   "metadata": {}
  }
 ],
 "metadata": {
  "orig_nbformat": 4,
  "language_info": {
   "name": "python"
  }
 },
 "nbformat": 4,
 "nbformat_minor": 2
}