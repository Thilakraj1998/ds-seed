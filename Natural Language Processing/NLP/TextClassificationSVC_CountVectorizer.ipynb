{
 "cells": [
  {
   "cell_type": "markdown",
   "source": [
    "# Text Classification using SVC\r\n"
   ],
   "metadata": {}
  },
  {
   "cell_type": "markdown",
   "source": [
    "This Code Template is for Text Classification using SVC based on Support Vector Machine Algorithm along with Text Feature technique CountVectorizer from Scikit-learn in python."
   ],
   "metadata": {}
  },
  {
   "cell_type": "markdown",
   "source": [
    "## Coming Soon"
   ],
   "metadata": {}
  }
 ],
 "metadata": {
  "orig_nbformat": 4,
  "language_info": {
   "name": "python"
  }
 },
 "nbformat": 4,
 "nbformat_minor": 2
}