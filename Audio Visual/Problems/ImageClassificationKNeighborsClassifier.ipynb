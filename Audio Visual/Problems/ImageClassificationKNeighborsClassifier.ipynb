{
 "cells": [
  {
   "cell_type": "markdown",
   "source": [
    "# Image Classification using KNeighborsClassifier\r\n"
   ],
   "metadata": {}
  },
  {
   "cell_type": "markdown",
   "source": [
    "This Code Template is for Image Classification using KNeighborsClassifier based on K-Nearest Neighbors Algorithm."
   ],
   "metadata": {}
  },
  {
   "cell_type": "markdown",
   "source": [
    "## Coming Soon"
   ],
   "metadata": {}
  }
 ],
 "metadata": {
  "orig_nbformat": 4,
  "language_info": {
   "name": "python"
  }
 },
 "nbformat": 4,
 "nbformat_minor": 2
}