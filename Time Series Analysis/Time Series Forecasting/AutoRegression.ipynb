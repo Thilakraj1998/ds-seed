{
 "cells": [
  {
   "cell_type": "markdown",
   "source": [
    "# Time series analysis using AutoRegression\r\n"
   ],
   "metadata": {}
  },
  {
   "cell_type": "markdown",
   "source": [
    "This code template is for Time Series Analysis and Forecasting to make scientific predictions based on historical time stamped data with the help of AutoRegression algorithm to make predictions."
   ],
   "metadata": {}
  },
  {
   "cell_type": "markdown",
   "source": [
    "## Coming Soon"
   ],
   "metadata": {}
  }
 ],
 "metadata": {
  "orig_nbformat": 4,
  "language_info": {
   "name": "python"
  }
 },
 "nbformat": 4,
 "nbformat_minor": 2
}