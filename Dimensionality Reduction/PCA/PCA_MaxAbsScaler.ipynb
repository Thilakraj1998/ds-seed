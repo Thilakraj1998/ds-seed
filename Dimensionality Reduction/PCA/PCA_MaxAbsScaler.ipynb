{
 "cells": [
  {
   "cell_type": "markdown",
   "source": [
    "# PCA with MaxAbsScaler\r\n"
   ],
   "metadata": {}
  },
  {
   "cell_type": "markdown",
   "source": [
    "This code template is for simple Principal Component Analysis(PCA) along feature scaling MaxAbsScaler in python for dimensionality reduction technique. It is used to decompose a multivariate dataset into a set of successive orthogonal components that explain a maximum amount of the variance."
   ],
   "metadata": {}
  },
  {
   "cell_type": "markdown",
   "source": [
    "## Coming Soon"
   ],
   "metadata": {}
  }
 ],
 "metadata": {
  "orig_nbformat": 4,
  "language_info": {
   "name": "python"
  }
 },
 "nbformat": 4,
 "nbformat_minor": 2
}