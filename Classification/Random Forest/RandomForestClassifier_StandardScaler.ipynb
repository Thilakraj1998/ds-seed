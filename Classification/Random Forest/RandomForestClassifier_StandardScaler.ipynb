{
 "cells": [
  {
   "cell_type": "markdown",
   "source": [
    "# RandomForestClassifier with StandardScaler"
   ],
   "metadata": {}
  },
  {
   "cell_type": "markdown",
   "source": [
    "This Code template is for the Classification tasks using a simple RandomForestClassifier based on the Ensemble Learning technique along with data rescaling using StandardScaler. Random Forest is a meta estimator that fits multiple decision trees and uses averaging to improve the predictive accuracy and control over-fitting."
   ],
   "metadata": {}
  },
  {
   "cell_type": "markdown",
   "source": [
    "### Coming Soon"
   ],
   "metadata": {}
  }
 ],
 "metadata": {
  "orig_nbformat": 4,
  "language_info": {
   "name": "python"
  }
 },
 "nbformat": 4,
 "nbformat_minor": 2
}