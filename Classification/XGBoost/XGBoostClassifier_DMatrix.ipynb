{
 "cells": [
  {
   "cell_type": "markdown",
   "source": [
    "# Extreme Gradient Boosting Classification using DMatrix"
   ],
   "metadata": {}
  },
  {
   "cell_type": "markdown",
   "source": [
    "This Code template is for the Classification task using XGBoost along with the DMatrix. DMatrix is an internal data structure that gets used by the XGBoost framework. It is optimized for both memory efficiency and training speed.\r\n",
    "\r\n",
    "<img src=\"https://cdn.blobcity.com/assets/gpu_recommended.png\"  height=\"25\" style=\"margin-bottom:-15px\" />"
   ],
   "metadata": {}
  },
  {
   "cell_type": "markdown",
   "source": [
    "## Coming Soon"
   ],
   "metadata": {}
  }
 ],
 "metadata": {
  "orig_nbformat": 4,
  "language_info": {
   "name": "python"
  }
 },
 "nbformat": 4,
 "nbformat_minor": 2
}